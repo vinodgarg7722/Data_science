{
 "cells": [
  {
   "cell_type": "code",
   "execution_count": 1,
   "id": "175a2c99",
   "metadata": {},
   "outputs": [
    {
     "name": "stdout",
     "output_type": "stream",
     "text": [
      "Valid Password\n",
      "Invalid Password\n"
     ]
    }
   ],
   "source": [
    "# Q1: Password Validation Function\n",
    "# To check if a password is valid based on the given criteria, we need to check the following:\n",
    "\n",
    "# The password should contain at least two uppercase letters.\n",
    "# The password should contain at least two lowercase letters.\n",
    "# The password should contain at least one number.\n",
    "# The password should contain at least three special characters.\n",
    "# The password should be at least 10 characters long.\n",
    "# Here's the code to implement this:\n",
    "\n",
    "import re\n",
    "\n",
    "def is_valid_password(password):\n",
    "    if len(password) != 10:\n",
    "        return \"Invalid Password\"\n",
    "    \n",
    "    if len(re.findall(r'[A-Z]', password)) < 2:\n",
    "        return \"Invalid Password\"\n",
    "    \n",
    "    if len(re.findall(r'[a-z]', password)) < 2:\n",
    "        return \"Invalid Password\"\n",
    "    \n",
    "    if len(re.findall(r'[0-9]', password)) < 1:\n",
    "        return \"Invalid Password\"\n",
    "    \n",
    "    if len(re.findall(r'[\\W_]', password)) < 3:\n",
    "        return \"Invalid Password\"\n",
    "    \n",
    "    return \"Valid Password\"\n",
    "\n",
    "# Example usage:\n",
    "print(is_valid_password(\"Aa1!@#Aa1!\"))  # Valid Password\n",
    "print(is_valid_password(\"Aa1!@#A1!\"))   # Invalid Password\n"
   ]
  },
  {
   "cell_type": "code",
   "execution_count": 3,
   "id": "420af3e1",
   "metadata": {},
   "outputs": [
    {
     "name": "stdout",
     "output_type": "stream",
     "text": [
      "True\n",
      "False\n",
      "True\n",
      "False\n",
      "[('orange', 80), ('mango', 99), ('grapes', 1000)]\n",
      "[1, 4, 9, 16, 25, 36, 49, 64, 81, 100]\n",
      "[1.0, 1.2599210498948732, 1.4422495703074083, 1.5874010519681994, 1.7099759466766968, 1.8171205928321397, 1.912931182772389, 2.0, 2.080083823051904, 2.154434690031884]\n",
      "True\n",
      "False\n",
      "[1, 3, 5, 7, 9]\n",
      "[1, 2, 3, 4, 5, 6]\n",
      "[-1, -2, -3, -4, -5]\n"
     ]
    }
   ],
   "source": [
    "# Q2: Solving Problems with Various Python Techniques\n",
    "\n",
    "# Check if the string starts with a particular letter:\n",
    "check_start = lambda s, letter: s.startswith(letter)\n",
    "print(check_start(\"Hello\", \"H\"))  # True\n",
    "print(check_start(\"hello\", \"H\"))  # False\n",
    "\n",
    "# Check if the string is numeric:\n",
    "check_numeric = lambda s: s.isnumeric()\n",
    "print(check_numeric(\"12345\"))  # True\n",
    "print(check_numeric(\"12a45\"))  # False\n",
    "\n",
    "# Sort a list of tuples having fruit names and their quantity:\n",
    "fruits = [(\"mango\", 99), (\"orange\", 80), (\"grapes\", 1000)]\n",
    "sorted_fruits = sorted(fruits, key=lambda x: x[1])\n",
    "print(sorted_fruits)  # [('orange', 80), ('mango', 99), ('grapes', 1000)]\n",
    "\n",
    "# Find the squares of numbers from 1 to 10:\n",
    "squares = [x**2 for x in range(1, 11)]\n",
    "print(squares)  # [1, 4, 9, 16, 25, 36, 49, 64, 81, 100]\n",
    "\n",
    "# Find the cube root of numbers from 1 to 10:\n",
    "cube_roots = [x**(1/3) for x in range(1, 11)]\n",
    "print(cube_roots)  # [1.0, 1.2599210498948732, 1.4422495703074083, 1.5874010519681994, 1.7099759466766968, 1.8171205928321397, 1.912931182772389, 2.0, 2.080083823051904, 2.154434690031884]\n",
    "\n",
    "# Check if a given number is even:\n",
    "is_even = lambda x: x % 2 == 0\n",
    "print(is_even(4))  # True\n",
    "print(is_even(7))  # False\n",
    "\n",
    "# Filter odd numbers from the given list:\n",
    "numbers = [1, 2, 3, 4, 5, 6, 7, 8, 9, 10]\n",
    "odd_numbers = list(filter(lambda x: x % 2 != 0, numbers))\n",
    "print(odd_numbers)  # [1, 3, 5, 7, 9]\n",
    "\n",
    "# Sort a list of integers into positive and negative integers lists:\n",
    "numbers = [1, 2, 3, 4, 5, 6, -1, -2, -3, -4, -5, 0]\n",
    "positive_numbers = [x for x in numbers if x > 0]\n",
    "negative_numbers = [x for x in numbers if x < 0]\n",
    "print(positive_numbers)  # [1, 2, 3, 4, 5, 6]\n",
    "print(negative_numbers)  # [-1, -2, -3, -4, -5]\n"
   ]
  },
  {
   "cell_type": "code",
   "execution_count": null,
   "id": "01c71907",
   "metadata": {},
   "outputs": [],
   "source": []
  }
 ],
 "metadata": {
  "kernelspec": {
   "display_name": "Python 3 (ipykernel)",
   "language": "python",
   "name": "python3"
  },
  "language_info": {
   "codemirror_mode": {
    "name": "ipython",
    "version": 3
   },
   "file_extension": ".py",
   "mimetype": "text/x-python",
   "name": "python",
   "nbconvert_exporter": "python",
   "pygments_lexer": "ipython3",
   "version": "3.11.5"
  }
 },
 "nbformat": 4,
 "nbformat_minor": 5
}
