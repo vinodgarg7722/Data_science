{
 "cells": [
  {
   "cell_type": "code",
   "execution_count": 2,
   "id": "0f2cfcc8",
   "metadata": {},
   "outputs": [],
   "source": [
    "# Import necessary libraries\n",
    "import numpy as np\n",
    "import matplotlib.pyplot as plt\n",
    "from scipy.stats import norm, binom, poisson\n",
    "\n",
    "# Q1. What is the Probability density function?\n",
    "# The probability density function (PDF) is a function that describes the likelihood of a random variable\n",
    "# to take on a particular value. The value of the PDF at any given point represents the relative likelihood\n",
    "# of the random variable at that point. \n",
    "\n"
   ]
  },
  {
   "cell_type": "code",
   "execution_count": 3,
   "id": "99fb90de",
   "metadata": {},
   "outputs": [],
   "source": [
    "# Q2. What are the types of Probability distribution?\n",
    "# There are many types of probability distributions, but some of the most common are:\n",
    "# 1. Normal (Gaussian) distribution\n",
    "# 2. Binomial distribution\n",
    "# 3. Poisson distribution\n",
    "# 4. Exponential distribution\n",
    "# 5. Uniform distribution\n",
    "\n"
   ]
  },
  {
   "cell_type": "code",
   "execution_count": 4,
   "id": "f4749f4b",
   "metadata": {},
   "outputs": [
    {
     "name": "stdout",
     "output_type": "stream",
     "text": [
      "Normal PDF value at x=0 with mean=0 and std_dev=1: 0.3989422804014327\n"
     ]
    }
   ],
   "source": [
    "# Q3. Write a Python function to calculate the probability density function of a normal distribution with\n",
    "# given mean and standard deviation at a given point.\n",
    "def normal_pdf(mean, std_dev, x):\n",
    "    return norm.pdf(x, mean, std_dev)\n",
    "\n",
    "mean = 0\n",
    "std_dev = 1\n",
    "x = 0\n",
    "pdf_value = normal_pdf(mean, std_dev, x)\n",
    "print(f\"Normal PDF value at x={x} with mean={mean} and std_dev={std_dev}: {pdf_value}\")\n",
    "\n"
   ]
  },
  {
   "cell_type": "code",
   "execution_count": 5,
   "id": "1ee80868",
   "metadata": {},
   "outputs": [],
   "source": [
    "# Q4. What are the properties of Binomial distribution? Give two examples of events where binomial\n",
    "# distribution can be applied.\n",
    "# Properties of Binomial distribution:\n",
    "# 1. The number of trials is fixed.\n",
    "# 2. Each trial is independent of the others.\n",
    "# 3. There are only two possible outcomes for each trial: success or failure.\n",
    "# 4. The probability of success remains constant for each trial.\n",
    "\n",
    "# Examples of events:\n",
    "# 1. Flipping a coin 10 times and counting the number of heads.\n",
    "# 2. A quality control inspector checking 100 products and counting the number of defective ones.\n",
    "\n"
   ]
  },
  {
   "cell_type": "code",
   "execution_count": 6,
   "id": "9e053c01",
   "metadata": {},
   "outputs": [
    {
     "data": {
      "image/png": "[encoded data removed]",
      "text/plain": [
       "<Figure size 640x480 with 1 Axes>"
      ]
     },
     "metadata": {},
     "output_type": "display_data"
    }
   ],
   "source": [
    "# Q5. Generate a random sample of size 1000 from a binomial distribution with probability of success 0.4\n",
    "# and plot a histogram of the results using matplotlib.\n",
    "n = 10\n",
    "p = 0.4\n",
    "sample_binom = np.random.binomial(n, p, 1000)\n",
    "\n",
    "plt.hist(sample_binom, bins=11, edgecolor='k', alpha=0.7)\n",
    "plt.title('Histogram of Binomial Distribution')\n",
    "plt.xlabel('Number of successes')\n",
    "plt.ylabel('Frequency')\n",
    "plt.show()\n",
    "\n"
   ]
  },
  {
   "cell_type": "code",
   "execution_count": 7,
   "id": "00c95057",
   "metadata": {},
   "outputs": [
    {
     "name": "stdout",
     "output_type": "stream",
     "text": [
      "Poisson CDF value at x=5 with mean=3: 0.9160820579686966\n"
     ]
    }
   ],
   "source": [
    "# Q6. Write a Python function to calculate the cumulative distribution function of a Poisson distribution\n",
    "# with given mean at a given point.\n",
    "def poisson_cdf(mean, x):\n",
    "    return poisson.cdf(x, mean)\n",
    "\n",
    "mean = 3\n",
    "x = 5\n",
    "cdf_value = poisson_cdf(mean, x)\n",
    "print(f\"Poisson CDF value at x={x} with mean={mean}: {cdf_value}\")\n",
    "\n"
   ]
  },
  {
   "cell_type": "code",
   "execution_count": null,
   "id": "cfbfc299",
   "metadata": {},
   "outputs": [],
   "source": [
    "# Q7. How Binomial distribution different from Poisson distribution?\n",
    "# The Binomial distribution describes the number of successes in a fixed number of independent trials, each with the same probability of success. \n",
    "# The Poisson distribution describes the number of events occurring within a fixed interval of time or space, with events happening independently at a constant rate.\n",
    "\n",
    "# Q8. Generate a random sample of size 1000 from a Poisson distribution with mean 5 and calculate the\n",
    "# sample mean and variance.\n",
    "mean = 5\n",
    "sample_poisson = np.random.poisson(mean, 1000)\n",
    "\n",
    "sample_mean = np.mean(sample_poisson)\n",
    "sample_variance = np.var(sample_poisson)\n",
    "print(f\"Sample Mean: {sample_mean}, Sample Variance: {sample_variance}\")\n",
    "\n",
    "# Q9. How mean and variance are related in Binomial distribution and Poisson distribution?\n",
    "# In a Binomial distribution, the mean is given by n * p and the variance by n * p * (1 - p).\n",
    "# In a Poisson distribution, the mean and variance are both equal to λ (lambda), the average rate of occurrence.\n",
    "\n",
    "# Q10. In normal distribution with respect to mean position, where does the least frequent data appear?\n",
    "# In a normal distribution, the least frequent data appears in the tails, farthest from the mean. \n",
    "# This is because the normal distribution is symmetric around the mean, and the probability density decreases as you move away from the mean.\n",
    "\n"
   ]
  }
 ],
 "metadata": {
  "kernelspec": {
   "display_name": "Python 3 (ipykernel)",
   "language": "python",
   "name": "python3"
  },
  "language_info": {
   "codemirror_mode": {
    "name": "ipython",
    "version": 3
   },
   "file_extension": ".py",
   "mimetype": "text/x-python",
   "name": "python",
   "nbconvert_exporter": "python",
   "pygments_lexer": "ipython3",
   "version": "3.11.5"
  }
 },
 "nbformat": 4,
 "nbformat_minor": 5
}
