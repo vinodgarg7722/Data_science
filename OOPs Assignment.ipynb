{
 "cells": [
  {
   "cell_type": "code",
   "execution_count": 1,
   "id": "39364b56",
   "metadata": {},
   "outputs": [
    {
     "name": "stdout",
     "output_type": "stream",
     "text": [
      "Engine started\n",
      "Engine stopped\n"
     ]
    }
   ],
   "source": [
    "# Q1. What is Abstraction in OOP? Explain with an example.\n",
    "# Abstraction is one of the fundamental principles of object-oriented programming (OOP). It refers to the concept of hiding the complex implementation details and showing only the necessary features of an object. It allows the user to interact with an object at a high level without needing to understand its internal workings.\n",
    "\n",
    "# Example:\n",
    "# Consider a Car class that represents a car. You don't need to know how the car's engine works internally to drive it. You just need to know how to start the car, accelerate, brake, and so on.\n",
    "\n",
    "from abc import ABC, abstractmethod\n",
    "\n",
    "class Car(ABC):\n",
    "    @abstractmethod\n",
    "    def start_engine(self):\n",
    "        pass\n",
    "    \n",
    "    @abstractmethod\n",
    "    def stop_engine(self):\n",
    "        pass\n",
    "\n",
    "class MyCar(Car):\n",
    "    def start_engine(self):\n",
    "        print(\"Engine started\")\n",
    "    \n",
    "    def stop_engine(self):\n",
    "        print(\"Engine stopped\")\n",
    "\n",
    "my_car = MyCar()\n",
    "my_car.start_engine()  # Output: Engine started\n",
    "my_car.stop_engine()   # Output: Engine stopped\n",
    "# In this example, the Car class is abstract, providing an interface with start_engine and stop_engine methods, while MyCar provides the specific implementation.\n",
    "\n"
   ]
  },
  {
   "cell_type": "code",
   "execution_count": 3,
   "id": "4af06d75",
   "metadata": {},
   "outputs": [
    {
     "name": "stdout",
     "output_type": "stream",
     "text": [
      "John\n",
      "50000\n"
     ]
    }
   ],
   "source": [
    "# Q2. Differentiate between Abstraction and Encapsulation. Explain with an example.\n",
    "# Abstraction and Encapsulation are both fundamental concepts in OOP but serve different purposes.\n",
    "\n",
    "# Abstraction is the process of hiding the implementation details and showing only the functionality. It focuses on what an object does rather than how it does it.\n",
    "\n",
    "# Encapsulation is the technique of wrapping the data (variables) and code (methods) together as a single unit. It restricts direct access to some of the object's components, which can prevent the accidental modification of data.\n",
    "\n",
    "# Example:\n",
    "\n",
    "class Employee:\n",
    "    def __init__(self, name, salary):\n",
    "        self.__name = name        # Encapsulated attribute\n",
    "        self.__salary = salary    # Encapsulated attribute\n",
    "    \n",
    "    def get_name(self):\n",
    "        return self.__name\n",
    "    \n",
    "    def set_name(self, name):\n",
    "        self.__name = name\n",
    "    \n",
    "    def get_salary(self):\n",
    "        return self.__salary\n",
    "    \n",
    "    def set_salary(self, salary):\n",
    "        self.__salary = salary\n",
    "\n",
    "employee = Employee(\"John\", 50000)\n",
    "print(employee.get_name())  # Output: John\n",
    "print(employee.get_salary()) # Output: 50000\n",
    "# In this example, the Employee class uses encapsulation to hide the attributes __name and __salary and provide methods to access and modify them.\n",
    "\n"
   ]
  },
  {
   "cell_type": "code",
   "execution_count": 4,
   "id": "73e14a88",
   "metadata": {},
   "outputs": [
    {
     "name": "stdout",
     "output_type": "stream",
     "text": [
      "Bark\n"
     ]
    }
   ],
   "source": [
    "# Q3. What is abc module in Python? Why is it used?\n",
    "# The abc module in Python stands for \"Abstract Base Classes.\" It is used to define abstract base classes in Python. An abstract base class cannot be instantiated and typically includes one or more abstract methods that must be implemented by its subclasses.\n",
    "\n",
    "# Usage:\n",
    "\n",
    "# The abc module helps in defining abstract classes and methods that can enforce certain functionalities to be implemented in derived classes.\n",
    "# It is used to create a blueprint for other classes.\n",
    "\n",
    "from abc import ABC, abstractmethod\n",
    "\n",
    "class Animal(ABC):\n",
    "    @abstractmethod\n",
    "    def make_sound(self):\n",
    "        pass\n",
    "\n",
    "class Dog(Animal):\n",
    "    def make_sound(self):\n",
    "        return \"Bark\"\n",
    "\n",
    "dog = Dog()\n",
    "print(dog.make_sound())  # Output: Bark\n"
   ]
  },
  {
   "cell_type": "code",
   "execution_count": 5,
   "id": "1567c09a",
   "metadata": {},
   "outputs": [
    {
     "name": "stdout",
     "output_type": "stream",
     "text": [
      "78.5\n"
     ]
    }
   ],
   "source": [
    "# Q4. How can we achieve data abstraction?\n",
    "# Data abstraction in Python can be achieved through:\n",
    "\n",
    "# Abstract Classes: Using the abc module to define abstract classes and methods.\n",
    "# Interfaces: Defining methods in abstract classes that must be implemented by subclasses.\n",
    "# Encapsulation: Using private variables and methods to hide the implementation details.\n",
    "# Example:\n",
    "\n",
    "from abc import ABC, abstractmethod\n",
    "\n",
    "class Shape(ABC):\n",
    "    @abstractmethod\n",
    "    def area(self):\n",
    "        pass\n",
    "\n",
    "class Circle(Shape):\n",
    "    def __init__(self, radius):\n",
    "        self.__radius = radius\n",
    "    \n",
    "    def area(self):\n",
    "        return 3.14 * (self.__radius ** 2)\n",
    "\n",
    "circle = Circle(5)\n",
    "print(circle.area())  # Output: 78.5\n"
   ]
  },
  {
   "cell_type": "code",
   "execution_count": 6,
   "id": "720ed3eb",
   "metadata": {},
   "outputs": [],
   "source": [
    "# Q5. Can we create an instance of an abstract class? Explain your answer.\n",
    "# No, we cannot create an instance of an abstract class. Abstract classes are meant to be a blueprint for other classes. They contain abstract methods that must be implemented by subclasses. Creating an instance of an abstract class would defeat its purpose because it would mean having an object of a class that has incomplete implementation.\n",
    "\n",
    "# Example:\n",
    "\n",
    "\n",
    "from abc import ABC, abstractmethod\n",
    "\n",
    "class AbstractClass(ABC):\n",
    "    @abstractmethod\n",
    "    def abstract_method(self):\n",
    "        pass\n",
    "\n",
    "# Trying to create an instance of AbstractClass will raise an error\n",
    "# abstract_instance = AbstractClass()  # This will raise TypeError\n",
    "# The above code will raise a TypeError if we try to instantiate AbstractClass because it contains an abstract method that is not implemented."
   ]
  },
  {
   "cell_type": "code",
   "execution_count": null,
   "id": "29efbbe0",
   "metadata": {},
   "outputs": [],
   "source": []
  }
 ],
 "metadata": {
  "kernelspec": {
   "display_name": "Python 3 (ipykernel)",
   "language": "python",
   "name": "python3"
  },
  "language_info": {
   "codemirror_mode": {
    "name": "ipython",
    "version": 3
   },
   "file_extension": ".py",
   "mimetype": "text/x-python",
   "name": "python",
   "nbconvert_exporter": "python",
   "pygments_lexer": "ipython3",
   "version": "3.11.5"
  }
 },
 "nbformat": 4,
 "nbformat_minor": 5
}
