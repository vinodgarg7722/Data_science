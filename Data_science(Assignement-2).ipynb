{
 "cells": [
  {
   "cell_type": "code",
   "execution_count": 1,
   "id": "92f0dd03",
   "metadata": {},
   "outputs": [
    {
     "name": "stdout",
     "output_type": "stream",
     "text": [
      "[1, 3, 5, 7, 9, 11, 13, 15, 17, 19, 21, 23, 25]\n"
     ]
    }
   ],
   "source": [
    "# Q1. Which keyword is used to create a function? Create a function to return a list of odd numbers in the\n",
    "# range of 1 to 25.\n",
    "\n",
    "def odd_numbers():\n",
    "    odd_list = [num for num in range(1, 26) if num % 2 != 0]\n",
    "    return odd_list\n",
    "\n",
    "print(odd_numbers())\n"
   ]
  },
  {
   "cell_type": "code",
   "execution_count": 3,
   "id": "417bb7dc",
   "metadata": {},
   "outputs": [
    {
     "name": "stdout",
     "output_type": "stream",
     "text": [
      "6\n",
      "15\n",
      "name: Alice\n",
      "age: 30\n",
      "city: New York\n"
     ]
    }
   ],
   "source": [
    "# Why *args and **kwargs is used in some functions? Create a function each for *args and **kwargs\n",
    "# to demonstrate their use.\n",
    "\n",
    "# *args and **kwargs are used in Python functions to handle variable numbers of arguments.\n",
    "\n",
    "# *args: It is used to pass a variable number of positional arguments to a function. The args variable inside the function is a tuple containing all the positional arguments passed to the function.\n",
    "\n",
    "# **kwargs: It is used to pass a variable number of keyword arguments (or named arguments) to a function. The kwargs variable inside the function is a dictionary containing all the keyword arguments passed to the function.\n",
    "\n",
    "\n",
    "\n",
    "\n",
    "# Example function using *args\n",
    "def sum_numbers(*args):\n",
    "    total = 0\n",
    "    for num in args:\n",
    "        total += num\n",
    "    return total\n",
    "\n",
    "# Call the function with different numbers of arguments\n",
    "print(sum_numbers(1, 2, 3))  # Output: 6\n",
    "print(sum_numbers(1, 2, 3, 4, 5))  # Output: 15\n",
    "\n",
    "\n",
    "# Example function using **kwargs\n",
    "def print_info(**kwargs):\n",
    "    for key, value in kwargs.items():\n",
    "        print(f\"{key}: {value}\")\n",
    "\n",
    "# Call the function with different keyword arguments\n",
    "print_info(name=\"Alice\", age=30, city=\"New York\")\n",
    "# Output:\n",
    "# name: Alice\n",
    "# age: 30\n",
    "# # city: New York\n",
    "# In the sum_numbers function, *args allows the function to accept any number of positional arguments, which are then summed up.\n",
    "\n",
    "# In the print_info function, **kwargs allows the function to accept any number of keyword arguments, which are then printed out as key-value pairs.\n",
    "\n",
    "\n",
    "\n",
    "\n",
    "\n",
    "\n",
    "\n"
   ]
  },
  {
   "cell_type": "code",
   "execution_count": 4,
   "id": "3058bd0c",
   "metadata": {},
   "outputs": [
    {
     "name": "stdout",
     "output_type": "stream",
     "text": [
      "2\n",
      "4\n",
      "6\n",
      "8\n",
      "10\n"
     ]
    }
   ],
   "source": [
    "# What is an iterator in python? Name the method used to initialise the iterator object and the method\n",
    "# used for iteration. Use these methods to print the first five elements of the given list [2, 4, 6, 8, 10, 12, 14,\n",
    "# 16, 18, 20].\n",
    "\n",
    "# In Python, an iterator is an object that represents a stream of data and allows iteration over elements in that stream. Iterators implement the iterator protocol, which requires them to implement two methods:\n",
    "\n",
    "# __iter__(): This method initializes the iterator object and returns itself. It is called when the iterator is created.\n",
    "\n",
    "# __next__(): This method is used for iteration. It returns the next element from the iterator. When there are no more elements, it raises the StopIteration exception.\n",
    "\n",
    "# Here's how you can use these methods to print the first five elements of the given list [2, 4, 6, 8, 10, 12, 14, 16, 18, 20]:\n",
    "\n",
    "# Create an iterator from the list\n",
    "iterator = iter([2, 4, 6, 8, 10, 12, 14, 16, 18, 20])\n",
    "\n",
    "# Iterate over the first five elements using the iterator\n",
    "for _ in range(5):\n",
    "    try:\n",
    "        element = next(iterator)\n",
    "        print(element)\n",
    "    except StopIteration:\n",
    "        break\n",
    "\n"
   ]
  },
  {
   "cell_type": "code",
   "execution_count": 5,
   "id": "967ca1ad",
   "metadata": {},
   "outputs": [
    {
     "name": "stdout",
     "output_type": "stream",
     "text": [
      "0\n",
      "1\n",
      "1\n",
      "2\n",
      "3\n",
      "5\n",
      "8\n",
      "13\n",
      "21\n",
      "34\n"
     ]
    }
   ],
   "source": [
    "# Q4. What is a generator function in python? Why yield keyword is used? Give an example of a generator\n",
    "# function.\n",
    "\n",
    "\n",
    "# What is a generator function?\n",
    "\n",
    "# A generator function is a special type of function that doesn't return a single value, but instead yields a sequence of values over time.\n",
    "# It uses the yield keyword to produce values one at a time, pausing and resuming execution each time it's called.\n",
    "# It saves memory because it doesn't create all the values at once, but only generates them as needed.\n",
    "\n",
    "\n",
    "# Why use the yield keyword?\n",
    "\n",
    "# It's the key feature that differentiates generator functions from regular functions.\n",
    "# It allows the function to pause its execution, return a value, and then resume from where it left off when called again.\n",
    "# This makes generators ideal for producing large sequences of values efficiently.\n",
    "\n",
    "\n",
    "def fibonacci(n):\n",
    "  \"\"\"\n",
    "  Generates the Fibonacci sequence up to n terms.\n",
    "  \"\"\"\n",
    "  a, b = 0, 1\n",
    "  for _ in range(n):\n",
    "    yield a  # Yield the current value\n",
    "    a, b = b, a + b  # Update the sequence\n",
    "\n",
    "# Use the generator function to iterate over Fibonacci numbers\n",
    "for num in fibonacci(10):\n",
    "  print(num)\n"
   ]
  },
  {
   "cell_type": "code",
   "execution_count": 6,
   "id": "af11ee70",
   "metadata": {},
   "outputs": [
    {
     "name": "stdout",
     "output_type": "stream",
     "text": [
      "2\n",
      "3\n",
      "5\n",
      "7\n",
      "11\n",
      "13\n",
      "17\n",
      "19\n",
      "23\n",
      "29\n",
      "31\n",
      "37\n",
      "41\n",
      "43\n",
      "47\n",
      "53\n",
      "59\n",
      "61\n",
      "67\n",
      "71\n"
     ]
    }
   ],
   "source": [
    "# Create a generator function for prime numbers less than 1000. Use the next() method to print the\n",
    "# first 20 prime numbers.\n",
    "\n",
    "def prime_generator(n):\n",
    " \"\"\"\n",
    " Generates prime numbers less than n.\n",
    " \"\"\"\n",
    " num = 2\n",
    " while num < n:\n",
    "   is_prime = True\n",
    "   for i in range(2, int(num**0.5) + 1):\n",
    "     if num % i == 0:\n",
    "       is_prime = False\n",
    "       break\n",
    "   if is_prime:\n",
    "     yield num\n",
    "   num += 1\n",
    "\n",
    "# Print the first 20 prime numbers\n",
    "prime_nums = prime_generator(1000)\n",
    "for _ in range(20):\n",
    " print(next(prime_nums))\n",
    "\n"
   ]
  },
  {
   "cell_type": "code",
   "execution_count": 7,
   "id": "239bfd08",
   "metadata": {},
   "outputs": [
    {
     "name": "stdout",
     "output_type": "stream",
     "text": [
      "0\n",
      "1\n",
      "1\n",
      "2\n",
      "3\n",
      "5\n",
      "8\n",
      "13\n",
      "21\n",
      "34\n"
     ]
    }
   ],
   "source": [
    "# Write a python program to print the first 10 Fibonacci numbers using a while loop.\n",
    "\n",
    "def print_fibonacci(n):\n",
    "    \"\"\"Prints the first n Fibonacci numbers using a while loop.\"\"\"\n",
    "\n",
    "    a, b = 0, 1  # Initialize the first two Fibonacci numbers\n",
    "    count = 0\n",
    "\n",
    "    while count < n:\n",
    "        print(a)\n",
    "        a, b = b, a + b  # Update the Fibonacci sequence\n",
    "        count += 1\n",
    "\n",
    "print_fibonacci(10)  # Print the first 10 Fibonacci numbers\n"
   ]
  },
  {
   "cell_type": "code",
   "execution_count": 8,
   "id": "85aae728",
   "metadata": {},
   "outputs": [
    {
     "name": "stdout",
     "output_type": "stream",
     "text": [
      "['p', 'w', 's', 'k', 'i', 'l', 'l', 's']\n"
     ]
    }
   ],
   "source": [
    "# Write a List Comprehension to iterate through the given string: ‘pwskills’.\n",
    "# Expected output: ['p', 'w', 's', 'k', 'i', 'l', 'l', 's']\n",
    "\n",
    "string = \"pwskills\"\n",
    "characters = [char for char in string]\n",
    "\n",
    "print(characters)\n"
   ]
  },
  {
   "cell_type": "code",
   "execution_count": 9,
   "id": "6c3210d0",
   "metadata": {},
   "outputs": [
    {
     "name": "stdout",
     "output_type": "stream",
     "text": [
      "121 is a palindrome\n"
     ]
    }
   ],
   "source": [
    "# Q8. Write a python program to check whether a given number is Palindrome or not using a while loop.\n",
    "\n",
    "def is_palindrome(num):\n",
    " \"\"\"\n",
    " Checks if a number is a palindrome using a while loop.\n",
    "\n",
    " Args:\n",
    "   num: The number to check.\n",
    "\n",
    " Returns:\n",
    "   True if the number is a palindrome, False otherwise.\n",
    " \"\"\"\n",
    "\n",
    " original_num = num\n",
    " reversed_num = 0\n",
    "\n",
    " while num > 0:\n",
    "   digit = num % 10\n",
    "   reversed_num = reversed_num * 10 + digit\n",
    "   num //= 10\n",
    "\n",
    " return original_num == reversed_num\n",
    "\n",
    "# Example usage\n",
    "number = 121\n",
    "if is_palindrome(number):\n",
    " print(f\"{number} is a palindrome\")\n",
    "else:\n",
    " print(f\"{number} is not a palindrome\")\n",
    "\n"
   ]
  },
  {
   "cell_type": "code",
   "execution_count": 10,
   "id": "b125bbcf",
   "metadata": {},
   "outputs": [
    {
     "name": "stdout",
     "output_type": "stream",
     "text": [
      "[1, 3, 5, 7, 9, 11, 13, 15, 17, 19, 21, 23, 25, 27, 29, 31, 33, 35, 37, 39, 41, 43, 45, 47, 49, 51, 53, 55, 57, 59, 61, 63, 65, 67, 69, 71, 73, 75, 77, 79, 81, 83, 85, 87, 89, 91, 93, 95, 97, 99]\n"
     ]
    }
   ],
   "source": [
    "# Q9. Write a code to print odd numbers from 1 to 100 using list comprehension.\n",
    "# Note: Use a list comprehension to create a list from 1 to 100 and use another List comprehension to filter\n",
    "# out odd numbers.\n",
    "\n",
    "odd_numbers = [num for num in [x for x in range(1, 101)] if num % 2 != 0]\n",
    "print(odd_numbers)\n"
   ]
  },
  {
   "cell_type": "code",
   "execution_count": null,
   "id": "cb8fd00b",
   "metadata": {},
   "outputs": [],
   "source": []
  }
 ],
 "metadata": {
  "kernelspec": {
   "display_name": "Python 3 (ipykernel)",
   "language": "python",
   "name": "python3"
  },
  "language_info": {
   "codemirror_mode": {
    "name": "ipython",
    "version": 3
   },
   "file_extension": ".py",
   "mimetype": "text/x-python",
   "name": "python",
   "nbconvert_exporter": "python",
   "pygments_lexer": "ipython3",
   "version": "3.11.5"
  }
 },
 "nbformat": 4,
 "nbformat_minor": 5
}
