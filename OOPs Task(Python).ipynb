{
 "cells": [
  {
   "cell_type": "code",
   "execution_count": 1,
   "id": "76905cad",
   "metadata": {},
   "outputs": [
    {
     "name": "stdout",
     "output_type": "stream",
     "text": [
      "Vehicle: Bike, Max Speed: 120, Average: 40\n"
     ]
    }
   ],
   "source": [
    "# Q1. Create a Vehicle class with an __init__ method having instance variables as name_of_vehicle, max_speed, and average_of_vehicle.\n",
    "\n",
    "class Vehicle:\n",
    "    def __init__(self, name_of_vehicle, max_speed, average_of_vehicle):\n",
    "        self.name_of_vehicle = name_of_vehicle\n",
    "        self.max_speed = max_speed\n",
    "        self.average_of_vehicle = average_of_vehicle\n",
    "\n",
    "# Example of creating a Vehicle object\n",
    "vehicle = Vehicle(\"Bike\", 120, 40)\n",
    "print(f\"Vehicle: {vehicle.name_of_vehicle}, Max Speed: {vehicle.max_speed}, Average: {vehicle.average_of_vehicle}\")\n"
   ]
  },
  {
   "cell_type": "code",
   "execution_count": 2,
   "id": "d76b9951",
   "metadata": {},
   "outputs": [
    {
     "name": "stdout",
     "output_type": "stream",
     "text": [
      "The Sedan has a seating capacity of 5.\n"
     ]
    }
   ],
   "source": [
    "# Q2. Create a child class Car from the Vehicle class created in Q1, which will inherit the Vehicle class. Create a method named seating_capacity which takes capacity as an argument and returns the name of the vehicle and its seating capacity.\n",
    "\n",
    "class Car(Vehicle):\n",
    "    def seating_capacity(self, capacity):\n",
    "        return f\"The {self.name_of_vehicle} has a seating capacity of {capacity}.\"\n",
    "\n",
    "# Example of creating a Car object and using seating_capacity method\n",
    "car = Car(\"Sedan\", 200, 15)\n",
    "print(car.seating_capacity(5))\n"
   ]
  },
  {
   "cell_type": "code",
   "execution_count": 3,
   "id": "a8c54e16",
   "metadata": {},
   "outputs": [
    {
     "name": "stdout",
     "output_type": "stream",
     "text": [
      "This is from Parent1\n",
      "This is from Parent2\n",
      "This is from Child\n"
     ]
    }
   ],
   "source": [
    "# Q3. What is multiple inheritance? Write a python code to demonstrate multiple inheritance.\n",
    "# Multiple inheritance is a feature in which a class can inherit attributes and methods from more than one parent class.\n",
    "\n",
    "\n",
    "class Parent1:\n",
    "    def method_parent1(self):\n",
    "        return \"This is from Parent1\"\n",
    "\n",
    "class Parent2:\n",
    "    def method_parent2(self):\n",
    "        return \"This is from Parent2\"\n",
    "\n",
    "class Child(Parent1, Parent2):\n",
    "    def method_child(self):\n",
    "        return \"This is from Child\"\n",
    "\n",
    "# Example of creating a Child object and using methods from both Parent1 and Parent2\n",
    "child = Child()\n",
    "print(child.method_parent1())\n",
    "print(child.method_parent2())\n",
    "print(child.method_child())\n"
   ]
  },
  {
   "cell_type": "code",
   "execution_count": 4,
   "id": "f81fafa6",
   "metadata": {},
   "outputs": [
    {
     "name": "stdout",
     "output_type": "stream",
     "text": [
      "Alice\n",
      "Bob\n"
     ]
    }
   ],
   "source": [
    "# Q4. What are getter and setter in Python? Create a class and create a getter and a setter method in this class.\n",
    "# Getter and setter methods are used to access and modify the values of instance variables in a class. Getters are used to get the value of an attribute, while setters are used to set or update the value of an attribute.\n",
    "\n",
    "\n",
    "class Person:\n",
    "    def __init__(self, name, age):\n",
    "        self._name = name\n",
    "        self._age = age\n",
    "\n",
    "    # Getter method\n",
    "    @property\n",
    "    def name(self):\n",
    "        return self._name\n",
    "\n",
    "    # Setter method\n",
    "    @name.setter\n",
    "    def name(self, value):\n",
    "        self._name = value\n",
    "\n",
    "    # Getter method\n",
    "    @property\n",
    "    def age(self):\n",
    "        return self._age\n",
    "\n",
    "    # Setter method\n",
    "    @age.setter\n",
    "    def age(self, value):\n",
    "        if value < 0:\n",
    "            raise ValueError(\"Age cannot be negative\")\n",
    "        self._age = value\n",
    "\n",
    "# Example of using getter and setter methods\n",
    "person = Person(\"Alice\", 30)\n",
    "print(person.name)  # Getter\n",
    "person.name = \"Bob\"  # Setter\n",
    "print(person.name)  # Getter\n"
   ]
  },
  {
   "cell_type": "code",
   "execution_count": 5,
   "id": "18955fd7",
   "metadata": {},
   "outputs": [
    {
     "name": "stdout",
     "output_type": "stream",
     "text": [
      "Some generic animal sound\n",
      "Bark\n"
     ]
    }
   ],
   "source": [
    "# Q5. What is method overriding in Python? Write a Python code to demonstrate method overriding.\n",
    "# Method overriding allows a subclass to provide a specific implementation of a method that is already defined in its superclass. The implementation in the subclass overrides the implementation in the superclass.\n",
    "\n",
    "\n",
    "class Animal:\n",
    "    def sound(self):\n",
    "        return \"Some generic animal sound\"\n",
    "\n",
    "class Dog(Animal):\n",
    "    def sound(self):\n",
    "        return \"Bark\"\n",
    "\n",
    "# Example of method overriding\n",
    "animal = Animal()\n",
    "print(animal.sound())  # Output: Some generic animal sound\n",
    "\n",
    "dog = Dog()\n",
    "print(dog.sound())  # Output: Bark"
   ]
  },
  {
   "cell_type": "code",
   "execution_count": null,
   "id": "a304f7fd",
   "metadata": {},
   "outputs": [],
   "source": []
  }
 ],
 "metadata": {
  "kernelspec": {
   "display_name": "Python 3 (ipykernel)",
   "language": "python",
   "name": "python3"
  },
  "language_info": {
   "codemirror_mode": {
    "name": "ipython",
    "version": 3
   },
   "file_extension": ".py",
   "mimetype": "text/x-python",
   "name": "python",
   "nbconvert_exporter": "python",
   "pygments_lexer": "ipython3",
   "version": "3.11.5"
  }
 },
 "nbformat": 4,
 "nbformat_minor": 5
}
