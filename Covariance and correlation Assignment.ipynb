{
 "cells": [
  {
   "cell_type": "code",
   "execution_count": 1,
   "id": "b374b631",
   "metadata": {},
   "outputs": [],
   "source": [
    "# Q1. What are the three measures of central tendency?\n",
    "# The three measures of central tendency are:\n",
    "\n",
    "# Mean: The average of all the data points.\n",
    "# Median: The middle value when the data points are arranged in ascending order.\n",
    "# Mode: The value that appears most frequently in the dataset.\n",
    "    \n",
    "# Q2. What is the difference between the mean, median, and mode? How are they used to measure the central tendency of a dataset?\n",
    "\n",
    "# Mean: The mean is calculated by adding all the data points together and then dividing by the number of data points. It is used to provide a general idea of the average value of the dataset. However, it can be heavily influenced by outliers.\n",
    "# Median: The median is the middle value of the dataset when it is ordered from smallest to largest. If there is an even number of observations, the median is the average of the two middle numbers. The median is useful for understanding the central point of the dataset and is less affected by outliers compared to the mean.\n",
    "# Mode: The mode is the value that occurs most frequently in the dataset. There can be more than one mode if multiple values have the highest frequency. The mode is useful for identifying the most common value in the dataset.\n"
   ]
  },
  {
   "cell_type": "code",
   "execution_count": 2,
   "id": "233a6bca",
   "metadata": {},
   "outputs": [
    {
     "name": "stdout",
     "output_type": "stream",
     "text": [
      "Requirement already satisfied: numpy in c:\\users\\vinod\\anaconda3\\lib\\site-packages (1.24.3)\n",
      "Requirement already satisfied: scipy in c:\\users\\vinod\\anaconda3\\lib\\site-packages (1.11.1)\n",
      "Note: you may need to restart the kernel to use updated packages.\n"
     ]
    }
   ],
   "source": [
    "pip install numpy scipy\n"
   ]
  },
  {
   "cell_type": "code",
   "execution_count": 4,
   "id": "997075ba",
   "metadata": {},
   "outputs": [
    {
     "name": "stdout",
     "output_type": "stream",
     "text": [
      "Mean height: 177.01875\n",
      "Median height: 177.0\n",
      "Mode height: ModeResult(mode=177.0, count=3)\n"
     ]
    }
   ],
   "source": [
    "# Q3. Measure the three measures of central tendency for the given height data:\n",
    "# 178,177,176,177,178.2,178,175,179,180,175,178.9,176.2,177,172.5,178,176.5\n",
    "\n",
    "import numpy as np\n",
    "from scipy import stats\n",
    "\n",
    "# List of heights\n",
    "heights = [178, 177, 176, 177, 178.2, 178, 175, 179, 180, 175, 178.9, 176.2, 177, 172.5, 178, 176.5]\n",
    "\n",
    "# Calculate the mean\n",
    "mean_height = np.mean(heights)\n",
    "\n",
    "# Calculate the median\n",
    "median_height = np.median(heights)\n",
    "\n",
    "# Calculate the mode\n",
    "mode_height = stats.mode(heights)\n",
    "\n",
    "# Print the results\n",
    "print(\"Mean height:\", mean_height)\n",
    "print(\"Median height:\", median_height)\n",
    "print(\"Mode height:\", mode_height)\n",
    "\n",
    "\n",
    "\n"
   ]
  },
  {
   "cell_type": "code",
   "execution_count": 6,
   "id": "4a06584b",
   "metadata": {},
   "outputs": [
    {
     "name": "stdout",
     "output_type": "stream",
     "text": [
      "Standard deviation of heights: 1.847238930584419\n"
     ]
    }
   ],
   "source": [
    "# Q4. Find the standard deviation for the given data:\n",
    "\n",
    "# 178,177,176,177,178.2,178,175,179,180,175,178.9,176.2,177,172.5,178,176.5\n",
    "\n",
    "\n",
    "import numpy as np\n",
    "\n",
    "# List of heights\n",
    "heights = [178, 177, 176, 177, 178.2, 178, 175, 179, 180, 175, 178.9, 176.2, 177, 172.5, 178, 176.5]\n",
    "\n",
    "# Calculate the standard deviation\n",
    "std_dev_height = np.std(heights, ddof=1)\n",
    "\n",
    "# Print the result\n",
    "print(\"Standard deviation of heights:\", std_dev_height)\n"
   ]
  },
  {
   "cell_type": "code",
   "execution_count": 7,
   "id": "367aae41",
   "metadata": {},
   "outputs": [
    {
     "name": "stdout",
     "output_type": "stream",
     "text": [
      "Data:  [1, 2, 3, 4, 5]\n",
      "Range:  4\n",
      "Variance:  2.0\n",
      "Standard Deviation:  1.4142135623730951\n"
     ]
    }
   ],
   "source": [
    "# Q5. How are measures of dispersion such as range, variance, and standard deviation used to describe the spread of a dataset? Provide an example.\n",
    "\n",
    "# Range: The range is the difference between the maximum and minimum values in the dataset. It gives a basic idea of how spread out the data is.\n",
    "\n",
    "# Variance: The variance measures the average degree to which each point differs from the mean. It is the mean of the squared differences between each data point and the mean. It provides a more precise measure of dispersion.\n",
    "\n",
    "# Standard Deviation: The standard deviation is the square root of the variance. It represents the average distance of each data point from the mean and is in the same unit as the data.\n",
    "# import numpy as np\n",
    "\n",
    "# Given data\n",
    "data = [1, 2, 3, 4, 5]\n",
    "\n",
    "# Calculate the range\n",
    "data_range = np.max(data) - np.min(data)\n",
    "\n",
    "# Calculate the mean\n",
    "mean_data = np.mean(data)\n",
    "\n",
    "# Calculate the variance\n",
    "variance_data = np.var(data, ddof=0)  # Population variance\n",
    "\n",
    "# Calculate the standard deviation\n",
    "std_dev_data = np.sqrt(variance_data)\n",
    "\n",
    "# Print the results\n",
    "print(\"Data: \", data)\n",
    "print(\"Range: \", data_range)\n",
    "print(\"Variance: \", variance_data)\n",
    "print(\"Standard Deviation: \", std_dev_data)\n"
   ]
  },
  {
   "cell_type": "code",
   "execution_count": 9,
   "id": "1fa1b44e",
   "metadata": {},
   "outputs": [],
   "source": [
    "# Q6. What is a Venn diagram?\n",
    "# A Venn diagram is a visual representation of the relationships between different sets. It uses overlapping circles to show the commonalities and differences between the sets."
   ]
  },
  {
   "cell_type": "code",
   "execution_count": 10,
   "id": "3efd54a5",
   "metadata": {},
   "outputs": [
    {
     "name": "stdout",
     "output_type": "stream",
     "text": [
      "A ∩ B = {2, 6}\n",
      "A ∪ B = {0, 2, 3, 4, 5, 6, 7, 8, 10}\n"
     ]
    }
   ],
   "source": [
    "# Q7. For the two given sets A = (2, 3, 4, 5, 6, 7) & B = (0, 2, 6, 8, 10). Find:\n",
    "\n",
    "# Given sets\n",
    "A = {2, 3, 4, 5, 6, 7}\n",
    "B = {0, 2, 6, 8, 10}\n",
    "\n",
    "# Calculate the intersection of A and B\n",
    "intersection_AB = A.intersection(B)\n",
    "\n",
    "# Calculate the union of A and B\n",
    "union_AB = A.union(B)\n",
    "\n",
    "# Print the results\n",
    "print(\"A ∩ B =\", intersection_AB)\n",
    "print(\"A ∪ B =\", union_AB)\n"
   ]
  },
  {
   "cell_type": "code",
   "execution_count": 11,
   "id": "dca8da9f",
   "metadata": {},
   "outputs": [],
   "source": [
    "\n",
    "# Q8. What do you understand about skewness in data?\n",
    "# Skewness refers to the asymmetry in the distribution of data. If data is not symmetrically distributed, it is skewed.\n",
    "\n",
    "# Positive Skew (Right Skew): The tail on the right side of the distribution is longer or fatter than the left side.\n",
    "# Negative Skew (Left Skew): The tail on the left side of the distribution is longer or fatter than the right side.\n",
    "# Q9. If a data is right skewed then what will be the position of median with respect to mean?\n",
    "# In a right-skewed (positively skewed) distribution, the mean is typically greater than the median because the mean is affected by the higher values in the tail.\n",
    "\n",
    "# Q10. Explain the difference between covariance and correlation. How are these measures used in statistical analysis?\n",
    "# Covariance: Measures the direction of the linear relationship between two variables. A positive covariance indicates that the variables tend to move in the same direction, while a negative covariance indicates they move in opposite directions.\n",
    "# Correlation: Measures both the strength and direction of the linear relationship between two variables and is standardized, ranging between -1 and 1. Correlation is easier to interpret because it is dimensionless.\n",
    "# Covariance and correlation are used to determine how two variables are related and are essential in predictive modeling and regression analysis."
   ]
  },
  {
   "cell_type": "code",
   "execution_count": 12,
   "id": "399c86fa",
   "metadata": {},
   "outputs": [
    {
     "name": "stdout",
     "output_type": "stream",
     "text": [
      "Dataset: [4, 8, 6, 5, 3]\n",
      "Sample Mean (x̄): 5.2\n"
     ]
    }
   ],
   "source": [
    "# Q11. What is the formula for calculating the sample mean? Provide an example calculation for a dataset.\n",
    "\n",
    "import numpy as np\n",
    "\n",
    "# Given dataset\n",
    "data = [4, 8, 6, 5, 3]\n",
    "\n",
    "# Calculate the sample mean\n",
    "sample_mean = np.mean(data)\n",
    "\n",
    "# Print the result\n",
    "print(\"Dataset:\", data)\n",
    "print(\"Sample Mean (x̄):\", sample_mean)\n"
   ]
  },
  {
   "cell_type": "code",
   "execution_count": 13,
   "id": "4627a070",
   "metadata": {},
   "outputs": [],
   "source": [
    "# Q12. For a normal distribution data, what is the relationship between its measures of central tendency?\n",
    "# In a normal distribution, the mean, median, and mode are all equal and located at the center of the distribution.\n",
    "\n",
    "# Q13. How is covariance different from correlation?\n",
    "# Covariance measures the direction of the relationship between two variables but does not standardize the relationship, making it difficult to interpret the strength of the relationship. Correlation standardizes the covariance, providing a clear, dimensionless measure of the strength and direction of the relationship between two variables.\n",
    "\n",
    "# Q14. How do outliers affect measures of central tendency and dispersion? Provide an example.\n",
    "# Outliers can significantly affect measures of central tendency and dispersion:\n",
    "\n",
    "# Mean: Outliers can skew the mean, making it higher or lower than the typical values.\n",
    "# Median: The median is less affected by outliers since it depends on the order of values, not their magnitude.\n",
    "# Mode: Outliers have little effect on the mode unless they are the most frequent values.\n",
    "# Range: Outliers can increase the range significantly.\n",
    "# Variance and Standard Deviation: Outliers can increase both measures, indicating a higher spread in the data."
   ]
  },
  {
   "cell_type": "code",
   "execution_count": null,
   "id": "eb1b4f2d",
   "metadata": {},
   "outputs": [],
   "source": []
  }
 ],
 "metadata": {
  "kernelspec": {
   "display_name": "Python 3 (ipykernel)",
   "language": "python",
   "name": "python3"
  },
  "language_info": {
   "codemirror_mode": {
    "name": "ipython",
    "version": 3
   },
   "file_extension": ".py",
   "mimetype": "text/x-python",
   "name": "python",
   "nbconvert_exporter": "python",
   "pygments_lexer": "ipython3",
   "version": "3.11.5"
  }
 },
 "nbformat": 4,
 "nbformat_minor": 5
}
