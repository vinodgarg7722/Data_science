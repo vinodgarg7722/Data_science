{
 "cells": [
  {
   "cell_type": "code",
   "execution_count": 1,
   "id": "d0f69f23",
   "metadata": {},
   "outputs": [
    {
     "data": {
      "text/plain": [
       "'\\nEstimation Statistics involves using sample data to estimate population parameters. \\n- Point estimate: A single value estimate of a population parameter. For example, using the sample mean to estimate the population mean.\\n- Interval estimate: A range of values within which the population parameter is expected to lie, typically given with a certain level of confidence (e.g., 95% confidence interval).\\n'"
      ]
     },
     "execution_count": 1,
     "metadata": {},
     "output_type": "execute_result"
    }
   ],
   "source": [
    "# Estimation Statistics and Hypothesis Testing\n",
    "\n",
    "import numpy as np\n",
    "import matplotlib.pyplot as plt\n",
    "from scipy.stats import t, norm, ttest_ind\n",
    "\n",
    "## Q1: What is Estimation Statistics? Explain point estimate and interval estimate.\n",
    "\n",
    "\"\"\"\n",
    "Estimation Statistics involves using sample data to estimate population parameters. \n",
    "- Point estimate: A single value estimate of a population parameter. For example, using the sample mean to estimate the population mean.\n",
    "- Interval estimate: A range of values within which the population parameter is expected to lie, typically given with a certain level of confidence (e.g., 95% confidence interval).\n",
    "\"\"\"\n",
    "\n",
    "\n",
    "\n",
    "\n"
   ]
  },
  {
   "cell_type": "code",
   "execution_count": 2,
   "id": "2dfd721a",
   "metadata": {},
   "outputs": [
    {
     "data": {
      "text/plain": [
       "(50, 1.8257418583505538)"
      ]
     },
     "execution_count": 2,
     "metadata": {},
     "output_type": "execute_result"
    }
   ],
   "source": [
    "## Q2. Write a Python function to estimate the population mean using a sample mean and standard deviation.\n",
    "\n",
    "def estimate_population_mean(sample_mean, sample_std, sample_size):\n",
    "    \"\"\"\n",
    "    Estimate the population mean using the sample mean and standard deviation.\n",
    "    \n",
    "    Parameters:\n",
    "    sample_mean (float): Sample mean\n",
    "    sample_std (float): Sample standard deviation\n",
    "    sample_size (int): Sample size\n",
    "    \n",
    "    Returns:\n",
    "    tuple: (Estimated population mean, Standard error of the mean)\n",
    "    \"\"\"\n",
    "    standard_error = sample_std / np.sqrt(sample_size)\n",
    "    return sample_mean, standard_error\n",
    "\n",
    "sample_mean = 50\n",
    "sample_std = 10\n",
    "sample_size = 30\n",
    "\n",
    "estimate_population_mean(sample_mean, sample_std, sample_size)\n",
    "\n"
   ]
  },
  {
   "cell_type": "code",
   "execution_count": 3,
   "id": "e577bdcf",
   "metadata": {},
   "outputs": [
    {
     "data": {
      "text/plain": [
       "'\\nHypothesis testing is a statistical method used to make decisions or inferences about population parameters based on sample data. It involves testing a hypothesis by comparing it against an alternative hypothesis using sample data.\\n\\nImportance:\\n- It helps in making decisions about population parameters.\\n- It provides a formal procedure for comparing observed data with a hypothesis.\\n- It quantifies the evidence against the null hypothesis.\\n'"
      ]
     },
     "execution_count": 3,
     "metadata": {},
     "output_type": "execute_result"
    }
   ],
   "source": [
    "## Q3: What is Hypothesis testing? Why is it used? State the importance of Hypothesis testing.\n",
    "\n",
    "\"\"\"\n",
    "Hypothesis testing is a statistical method used to make decisions or inferences about population parameters based on sample data. It involves testing a hypothesis by comparing it against an alternative hypothesis using sample data.\n",
    "\n",
    "Importance:\n",
    "- It helps in making decisions about population parameters.\n",
    "- It provides a formal procedure for comparing observed data with a hypothesis.\n",
    "- It quantifies the evidence against the null hypothesis.\n",
    "\"\"\"\n",
    "\n"
   ]
  },
  {
   "cell_type": "code",
   "execution_count": 4,
   "id": "dd457a5b",
   "metadata": {},
   "outputs": [
    {
     "data": {
      "text/plain": [
       "'\\nNull Hypothesis (H0): The average weight of male college students is equal to the average weight of female college students.\\nAlternative Hypothesis (H1): The average weight of male college students is greater than the average weight of female college students.\\n'"
      ]
     },
     "execution_count": 4,
     "metadata": {},
     "output_type": "execute_result"
    }
   ],
   "source": [
    "## Q4. Create a hypothesis that states whether the average weight of male college students is greater than the average weight of female college students.\n",
    "\n",
    "\"\"\"\n",
    "Null Hypothesis (H0): The average weight of male college students is equal to the average weight of female college students.\n",
    "Alternative Hypothesis (H1): The average weight of male college students is greater than the average weight of female college students.\n",
    "\"\"\"\n",
    "\n"
   ]
  },
  {
   "cell_type": "code",
   "execution_count": 5,
   "id": "598b99a1",
   "metadata": {},
   "outputs": [
    {
     "data": {
      "text/plain": [
       "(2.3109712676838163, 0.025482798616421425)"
      ]
     },
     "execution_count": 5,
     "metadata": {},
     "output_type": "execute_result"
    }
   ],
   "source": [
    "## Q5. Write a Python script to conduct a hypothesis test on the difference between two population means, given a sample from each population.\n",
    "\n",
    "def hypothesis_test(sample1, sample2):\n",
    "    \"\"\"\n",
    "    Conduct a hypothesis test on the difference between two population means.\n",
    "    \n",
    "    Parameters:\n",
    "    sample1 (array-like): Sample data from population 1\n",
    "    sample2 (array-like): Sample data from population 2\n",
    "    \n",
    "    Returns:\n",
    "    tuple: (t-statistic, p-value)\n",
    "    \"\"\"\n",
    "    t_stat, p_val = ttest_ind(sample1, sample2, equal_var=False)\n",
    "    return t_stat, p_val\n",
    "\n",
    "# Example samples\n",
    "sample1 = np.random.normal(70, 10, 30)\n",
    "sample2 = np.random.normal(65, 8, 40)\n",
    "\n",
    "hypothesis_test(sample1, sample2)\n"
   ]
  },
  {
   "cell_type": "code",
   "execution_count": 6,
   "id": "e7a10ee9",
   "metadata": {},
   "outputs": [
    {
     "data": {
      "text/plain": [
       "'\\nThe p-value is the probability of obtaining test results at least as extreme as the observed results, assuming that the null hypothesis is true. It quantifies the evidence against the null hypothesis.\\n\\nSignificance:\\n- A low p-value (typically ≤ 0.05) indicates strong evidence against the null hypothesis, so we reject the null hypothesis.\\n- A high p-value (> 0.05) indicates weak evidence against the null hypothesis, so we fail to reject the null hypothesis.\\n'"
      ]
     },
     "execution_count": 6,
     "metadata": {},
     "output_type": "execute_result"
    }
   ],
   "source": [
    "\n",
    "## Q6: What is a null and alternative hypothesis? Give some examples.\n",
    "\n",
    "\"\"\"\n",
    "- Null Hypothesis (H0): A statement that there is no effect or no difference. It is the hypothesis that we seek to test.\n",
    "- Alternative Hypothesis (H1): A statement that contradicts the null hypothesis. It represents the effect or difference we are testing for.\n",
    "\n",
    "Examples:\n",
    "1. H0: The mean weight of male college students is equal to the mean weight of female college students.\n",
    "   H1: The mean weight of male college students is greater than the mean weight of female college students.\n",
    "2. H0: A new drug has no effect on blood pressure.\n",
    "   H1: A new drug decreases blood pressure.\n",
    "\"\"\"\n",
    "\n",
    "## Q7: Write down the steps involved in hypothesis testing.\n",
    "\n",
    "\"\"\"\n",
    "Steps in Hypothesis Testing:\n",
    "1. State the null and alternative hypotheses.\n",
    "2. Choose a significance level (alpha).\n",
    "3. Collect the sample data and calculate the test statistic.\n",
    "4. Determine the p-value or critical value.\n",
    "5. Compare the p-value with the significance level or compare the test statistic with the critical value.\n",
    "6. Make a decision to reject or fail to reject the null hypothesis.\n",
    "7. Draw a conclusion and interpret the results.\n",
    "\"\"\"\n",
    "\n",
    "## Q8. Define p-value and explain its significance in hypothesis testing.\n",
    "\n",
    "\"\"\"\n",
    "The p-value is the probability of obtaining test results at least as extreme as the observed results, assuming that the null hypothesis is true. It quantifies the evidence against the null hypothesis.\n",
    "\n",
    "Significance:\n",
    "- A low p-value (typically ≤ 0.05) indicates strong evidence against the null hypothesis, so we reject the null hypothesis.\n",
    "- A high p-value (> 0.05) indicates weak evidence against the null hypothesis, so we fail to reject the null hypothesis.\n",
    "\"\"\"\n",
    "\n"
   ]
  },
  {
   "cell_type": "code",
   "execution_count": 7,
   "id": "216c5a35",
   "metadata": {},
   "outputs": [
    {
     "data": {
      "image/png": "[encoded data removed]",
      "text/plain": [
       "<Figure size 640x480 with 1 Axes>"
      ]
     },
     "metadata": {},
     "output_type": "display_data"
    }
   ],
   "source": [
    "## Q9. Generate a Student's t-distribution plot using Python's matplotlib library, with the degrees of freedom parameter set to 10.\n",
    "\n",
    "# Generate t-distribution plot\n",
    "df = 10\n",
    "x = np.linspace(-4, 4, 1000)\n",
    "t_dist = t.pdf(x, df)\n",
    "\n",
    "plt.plot(x, t_dist, label='t-distribution df=10')\n",
    "plt.title(\"Student's t-Distribution (df=10)\")\n",
    "plt.xlabel('Value')\n",
    "plt.ylabel('Probability Density')\n",
    "plt.legend()\n",
    "plt.show()\n",
    "\n"
   ]
  },
  {
   "cell_type": "code",
   "execution_count": 8,
   "id": "143a9ad5",
   "metadata": {},
   "outputs": [
    {
     "data": {
      "text/plain": [
       "(-3.079814888785701, 0.003163667018650754)"
      ]
     },
     "execution_count": 8,
     "metadata": {},
     "output_type": "execute_result"
    }
   ],
   "source": [
    "## Q10. Write a Python program to calculate the two-sample t-test for independent samples, given two random samples of equal size and a null hypothesis that the population means are equal.\n",
    "\n",
    "def two_sample_t_test(sample1, sample2):\n",
    "    \"\"\"\n",
    "    Perform a two-sample t-test for independent samples.\n",
    "    \n",
    "    Parameters:\n",
    "    sample1 (array-like): Sample data from population 1\n",
    "    sample2 (array-like): Sample data from population 2\n",
    "    \n",
    "    Returns:\n",
    "    tuple: (t-statistic, p-value)\n",
    "    \"\"\"\n",
    "    t_stat, p_val = ttest_ind(sample1, sample2)\n",
    "    return t_stat, p_val\n",
    "\n",
    "# Example samples\n",
    "sample1 = np.random.normal(50, 5, 30)\n",
    "sample2 = np.random.normal(52, 5, 30)\n",
    "\n",
    "two_sample_t_test(sample1, sample2)\n",
    "\n"
   ]
  },
  {
   "cell_type": "code",
   "execution_count": 9,
   "id": "ce0c7b48",
   "metadata": {},
   "outputs": [
    {
     "data": {
      "text/plain": [
       "'\\nThe t-statistic is a ratio that measures the difference between the observed sample mean and the population mean relative to the standard error of the mean. \\n\\nFormula:\\nt = (X̄ - μ) / (s / √n)\\n\\nWhere:\\nX̄ = Sample mean\\nμ = Population mean\\ns = Sample standard deviation\\nn = Sample size\\n'"
      ]
     },
     "execution_count": 9,
     "metadata": {},
     "output_type": "execute_result"
    }
   ],
   "source": [
    "## Q11: What is Student’s t distribution? When to use the t-Distribution.\n",
    "\n",
    "\"\"\"\n",
    "Student's t-distribution is a probability distribution used when estimating the mean of a normally distributed population in situations where the sample size is small, and the population standard deviation is unknown.\n",
    "\n",
    "Use t-distribution:\n",
    "- When the sample size is small (n < 30).\n",
    "- When the population standard deviation is unknown.\n",
    "- When the data is approximately normally distributed.\n",
    "\"\"\"\n",
    "\n",
    "## Q12: What is t-statistic? State the formula for t-statistic.\n",
    "\n",
    "\"\"\"\n",
    "The t-statistic is a ratio that measures the difference between the observed sample mean and the population mean relative to the standard error of the mean. \n",
    "\n",
    "Formula:\n",
    "t = (X̄ - μ) / (s / √n)\n",
    "\n",
    "Where:\n",
    "X̄ = Sample mean\n",
    "μ = Population mean\n",
    "s = Sample standard deviation\n",
    "n = Sample size\n",
    "\"\"\"\n",
    "\n"
   ]
  },
  {
   "cell_type": "code",
   "execution_count": 10,
   "id": "74e42009",
   "metadata": {},
   "outputs": [
    {
     "data": {
      "text/plain": [
       "(485.79015724388137, 514.2098427561186)"
      ]
     },
     "execution_count": 10,
     "metadata": {},
     "output_type": "execute_result"
    }
   ],
   "source": [
    "## Q13. A coffee shop owner wants to estimate the average daily revenue for their shop. They take a random sample of 50 days and find the sample mean revenue to be $500 with a standard deviation of $50. Estimate the population mean revenue with a 95% confidence interval.\n",
    "\n",
    "# Parameters\n",
    "sample_mean = 500\n",
    "sample_std = 50\n",
    "sample_size = 50\n",
    "confidence_level = 0.95\n",
    "\n",
    "# Calculate the t-critical value\n",
    "alpha = 1 - confidence_level\n",
    "t_critical = t.ppf(1 - alpha/2, df=sample_size-1)\n",
    "\n",
    "# Calculate the margin of error\n",
    "margin_of_error = t_critical * (sample_std / np.sqrt(sample_size))\n",
    "\n",
    "# Calculate the confidence interval\n",
    "confidence_interval = (sample_mean - margin_of_error, sample_mean + margin_of_error)\n",
    "confidence_interval\n",
    "\n"
   ]
  },
  {
   "cell_type": "code",
   "execution_count": 11,
   "id": "e5b6c672",
   "metadata": {},
   "outputs": [
    {
     "data": {
      "text/plain": [
       "'Reject the null hypothesis'"
      ]
     },
     "execution_count": 11,
     "metadata": {},
     "output_type": "execute_result"
    }
   ],
   "source": [
    "## Q14. A researcher hypothesizes that a new drug will decrease blood pressure by 10 mmHg. They conduct a clinical trial with 100 patients and find that the sample mean decrease in blood pressure is 8 mmHg with a standard deviation of 3 mmHg. Test the hypothesis with a significance level of 0.05.\n",
    "\n",
    "# Parameters\n",
    "sample_mean = 8\n",
    "sample_std = 3\n",
    "sample_size = 100\n",
    "population_mean = 10\n",
    "alpha = 0.05\n",
    "\n",
    "# Calculate the t-statistic\n",
    "t_stat = (sample_mean - population_mean) / (sample_std / np.sqrt(sample_size))\n",
    "\n",
    "# Calculate the p-value\n",
    "p_value = t.cdf(t_stat, df=sample_size-1)\n",
    "p_value\n",
    "\n",
    "# Conclusion\n",
    "if p_value < alpha:\n",
    "    result = \"Reject the null hypothesis\"\n",
    "else:\n",
    "    result = \"Fail to reject the null hypothesis\"\n",
    "result"
   ]
  },
  {
   "cell_type": "code",
   "execution_count": 12,
   "id": "14576247",
   "metadata": {},
   "outputs": [
    {
     "data": {
      "text/plain": [
       "'Fail'"
      ]
     },
     "execution_count": 12,
     "metadata": {},
     "output_type": "execute_result"
    }
   ],
   "source": [
    "## Q15. An electronics company produces a certain type of product with a mean weight of 5 pounds and a standard deviation of 0.5 pounds. A random sample of 25 products is taken, and the sample mean weight is found to be 4.8 pounds. Test the hypothesis that the true mean weight of the products is less than 5 pounds with a significance level of 0.01.\n",
    "\n",
    "# Parameters\n",
    "sample_mean = 4.8\n",
    "sample_std = 0.5\n",
    "sample_size = 25\n",
    "population_mean = 5\n",
    "alpha = 0.01\n",
    "\n",
    "# Calculate the t-statistic\n",
    "t_stat = (sample_mean - population_mean) / (sample_std / np.sqrt(sample_size))\n",
    "\n",
    "# Calculate the p-value\n",
    "p_value = t.cdf(t_stat, df=sample_size-1)\n",
    "p_value\n",
    "\n",
    "# Conclusion\n",
    "if p_value < alpha:\n",
    "    result = \"Reject the null hypothesis\"\n",
    "else:\n",
    "    result = \"Fail\"\n",
    "    \n",
    "result    "
   ]
  },
  {
   "cell_type": "code",
   "execution_count": 13,
   "id": "c089b229",
   "metadata": {},
   "outputs": [
    {
     "name": "stdout",
     "output_type": "stream",
     "text": [
      "t-statistic: 5.380780345588785\n",
      "p-value: 2.4266387027806207e-06\n",
      "Reject the null hypothesis: The population means are not equal.\n"
     ]
    }
   ],
   "source": [
    "# Q16. Two groups of students are given different study materials to prepare for a test. The first group (n1 =\n",
    "# 30) has a mean score of 80 with a standard deviation of 10, and the second group (n2 = 40) has a mean\n",
    "# score of 75 with a standard deviation of 8. Test the hypothesis that the population means for the two\n",
    "# groups are equal with a significance level of 0.01.\n",
    "\n",
    "\n",
    "# Import necessary libraries\n",
    "import numpy as np\n",
    "from scipy.stats import ttest_ind\n",
    "\n",
    "# Define the sample data\n",
    "n1 = 30\n",
    "mean1 = 80\n",
    "std1 = 10\n",
    "\n",
    "n2 = 40\n",
    "mean2 = 75\n",
    "std2 = 8\n",
    "\n",
    "# Generate random samples based on the given statistics\n",
    "np.random.seed(0)  # For reproducibility\n",
    "sample1 = np.random.normal(mean1, std1, n1)\n",
    "sample2 = np.random.normal(mean2, std2, n2)\n",
    "\n",
    "# Perform two-sample t-test for independent samples\n",
    "t_stat, p_val = ttest_ind(sample1, sample2, equal_var=False)\n",
    "\n",
    "# Print the t-statistic and p-value\n",
    "print(f't-statistic: {t_stat}')\n",
    "print(f'p-value: {p_val}')\n",
    "\n",
    "# Conclusion based on significance level\n",
    "alpha = 0.01\n",
    "if p_val < alpha:\n",
    "    print(\"Reject the null hypothesis: The population means are not equal.\")\n",
    "else:\n",
    "    print(\"Fail to reject the null hypothesis: There is no significant difference between the population means.\")"
   ]
  },
  {
   "cell_type": "code",
   "execution_count": 14,
   "id": "5dbf6151",
   "metadata": {},
   "outputs": [
    {
     "name": "stdout",
     "output_type": "stream",
     "text": [
      "The 99% confidence interval for the population mean is: (3.4314963358572577, 4.568503664142742)\n"
     ]
    }
   ],
   "source": [
    "# Q17. A marketing company wants to estimate the average number of ads watched by viewers during a TV\n",
    "# program. They take a random sample of 50 viewers and find that the sample mean is 4 with a standard\n",
    "# deviation of 1.5. Estimate the population mean with a 99% confidence interval.\n",
    "\n",
    "\n",
    "# Import necessary libraries\n",
    "import numpy as np\n",
    "from scipy.stats import t\n",
    "\n",
    "# Define the sample data\n",
    "sample_mean = 4\n",
    "sample_std = 1.5\n",
    "sample_size = 50\n",
    "confidence_level = 0.99\n",
    "\n",
    "# Calculate the t-critical value\n",
    "alpha = 1 - confidence_level\n",
    "t_critical = t.ppf(1 - alpha/2, df=sample_size-1)\n",
    "\n",
    "# Calculate the margin of error\n",
    "margin_of_error = t_critical * (sample_std / np.sqrt(sample_size))\n",
    "\n",
    "# Calculate the confidence interval\n",
    "confidence_interval = (sample_mean - margin_of_error, sample_mean + margin_of_error)\n",
    "confidence_interval\n",
    "\n",
    "# Print the confidence interval\n",
    "print(f'The 99% confidence interval for the population mean is: {confidence_interval}')"
   ]
  },
  {
   "cell_type": "code",
   "execution_count": null,
   "id": "5afbd596",
   "metadata": {},
   "outputs": [],
   "source": []
  },
  {
   "cell_type": "code",
   "execution_count": null,
   "id": "b9684649",
   "metadata": {},
   "outputs": [],
   "source": []
  }
 ],
 "metadata": {
  "kernelspec": {
   "display_name": "Python 3 (ipykernel)",
   "language": "python",
   "name": "python3"
  },
  "language_info": {
   "codemirror_mode": {
    "name": "ipython",
    "version": 3
   },
   "file_extension": ".py",
   "mimetype": "text/x-python",
   "name": "python",
   "nbconvert_exporter": "python",
   "pygments_lexer": "ipython3",
   "version": "3.11.5"
  }
 },
 "nbformat": 4,
 "nbformat_minor": 5
}
