{
 "cells": [
  {
   "cell_type": "code",
   "execution_count": 1,
   "id": "b0ab705e",
   "metadata": {},
   "outputs": [
    {
     "name": "stdout",
     "output_type": "stream",
     "text": [
      "1\n",
      "2\n",
      "3\n",
      "4\n",
      "5\n",
      "Guess a number: 5\n",
      "Guess a number: 7\n",
      "You guessed it!\n"
     ]
    }
   ],
   "source": [
    "# Q1.  Explain with an example each when to use a for loop and a while loop. \n",
    "\n",
    "#  For Loops:\n",
    "  # Use when you know the number of iterations beforehand.\n",
    "  # Have a built-in structure for initialization, condition, and increment/decrement\n",
    "\n",
    "# Example\n",
    "\n",
    "for i in range(1, 6): \n",
    " print(i)         \n",
    "\n",
    "# While Loops:\n",
    "\n",
    "  # Use when you don't know the exact number of iterations in advance.\n",
    "  # Continue looping as long as a certain condition remains true.\n",
    "\n",
    "guess = 0\n",
    "secret_number = 7\n",
    "while guess != secret_number:\n",
    "    guess = int(input(\"Guess a number: \"))\n",
    "\n",
    "print(\"You guessed it!\")\n"
   ]
  },
  {
   "cell_type": "code",
   "execution_count": 2,
   "id": "320885b2",
   "metadata": {},
   "outputs": [
    {
     "name": "stdout",
     "output_type": "stream",
     "text": [
      "Sum of first 10 natural numbers: 55\n",
      "Product of first 10 natural numbers: 3628800\n"
     ]
    }
   ],
   "source": [
    "# Q2.  Write a python program to print the sum and product of the first 10 natural numbers using for  and while loop. \n",
    "sum = 0\n",
    "product = 1\n",
    "\n",
    "for num in range(1, 11):  # Iterate from 1 to 10\n",
    "    sum += num\n",
    "    product *= num\n",
    "\n",
    "print(\"Sum of first 10 natural numbers:\", sum)\n",
    "print(\"Product of first 10 natural numbers:\", product)\n"
   ]
  },
  {
   "cell_type": "code",
   "execution_count": 4,
   "id": "02aa0e82",
   "metadata": {},
   "outputs": [
    {
     "name": "stdout",
     "output_type": "stream",
     "text": [
      "Enter the units of electricity consumed: 2\n",
      "Total electricity bill for 2 units: Rs. 49.00\n"
     ]
    },
    {
     "ename": "AssertionError",
     "evalue": "",
     "output_type": "error",
     "traceback": [
      "\u001b[1;31m---------------------------------------------------------------------------\u001b[0m",
      "\u001b[1;31mAssertionError\u001b[0m                            Traceback (most recent call last)",
      "Cell \u001b[1;32mIn[4], line 43\u001b[0m\n\u001b[0;32m     40\u001b[0m \u001b[38;5;28mprint\u001b[39m(\u001b[38;5;124mf\u001b[39m\u001b[38;5;124m\"\u001b[39m\u001b[38;5;124mTotal electricity bill for \u001b[39m\u001b[38;5;132;01m{\u001b[39;00munits\u001b[38;5;132;01m}\u001b[39;00m\u001b[38;5;124m units: Rs. \u001b[39m\u001b[38;5;132;01m{\u001b[39;00mtotal_bill\u001b[38;5;132;01m:\u001b[39;00m\u001b[38;5;124m.2f\u001b[39m\u001b[38;5;132;01m}\u001b[39;00m\u001b[38;5;124m\"\u001b[39m)\n\u001b[0;32m     42\u001b[0m \u001b[38;5;66;03m# Test case\u001b[39;00m\n\u001b[1;32m---> 43\u001b[0m \u001b[38;5;28;01massert\u001b[39;00m calculate_electricity_bill(\u001b[38;5;241m310\u001b[39m) \u001b[38;5;241m==\u001b[39m \u001b[38;5;241m2250\u001b[39m\n",
      "\u001b[1;31mAssertionError\u001b[0m: "
     ]
    }
   ],
   "source": [
    "\n",
    "#  Create a python program to compute the electricity bill for a household. \n",
    "# The per-unit charges in rupees are as follows: For the first 100 units, the user will be charged Rs. 4.5 per  unit, for the next 100 units, the user will be charged Rs. 6 per unit, and for the next 100 units, the user will  be charged Rs. 10 per unit, After 300 units and above the user will be charged Rs. 20 per unit. \n",
    "# You are required to take the units of electricity consumed in a month from the user as input. \n",
    "# Your program must pass this test case: when the unit of electricity consumed by the user in a month is  310, the total electricity bill should be 2250. \n",
    "\n",
    "def calculate_electricity_bill(units):\n",
    "  \"\"\"\n",
    "  Calculates the electricity bill based on the units consumed.\n",
    "\n",
    "  Args:\n",
    "    units: The number of electricity units consumed.\n",
    "\n",
    "  Returns:\n",
    "    The total electricity bill amount.\n",
    "  \"\"\"\n",
    "  # Define the per-unit charges for different consumption ranges\n",
    "  charges = {\n",
    "      0: 4.5,\n",
    "      100: 6,\n",
    "      200: 10,\n",
    "      300: 20,\n",
    "  }\n",
    "\n",
    "  # Calculate the bill amount for each consumption range\n",
    "  bill = 0\n",
    "  for threshold, rate in charges.items():\n",
    "    if units <= threshold:\n",
    "      break\n",
    "    bill += (threshold - (threshold - units)) * rate\n",
    "    units -= threshold\n",
    "\n",
    "  # Calculate the bill amount for remaining units (if any)\n",
    "  bill += units * charges[300]\n",
    "\n",
    "  return bill\n",
    "\n",
    "# Example usage\n",
    "units = int(input(\"Enter the units of electricity consumed: \"))\n",
    "total_bill = calculate_electricity_bill(units)\n",
    "print(f\"Total electricity bill for {units} units: Rs. {total_bill:.2f}\")\n",
    "\n",
    "# Test case\n",
    "assert calculate_electricity_bill(310) == 2250\n",
    "\n"
   ]
  },
  {
   "cell_type": "code",
   "execution_count": 5,
   "id": "d5437a29",
   "metadata": {},
   "outputs": [
    {
     "name": "stdout",
     "output_type": "stream",
     "text": [
      "Numbers divisible by 4 or 5 using for loop: [2, 4, 5, 6, 8, 10, 12, 14, 15, 16, 18, 20, 22, 24, 25, 26, 28, 30, 32, 34, 35, 36, 38, 40, 42, 44, 45, 46, 48, 50, 52, 54, 55, 56, 58, 60, 62, 64, 65, 66, 68, 70, 72, 74, 75, 76, 78, 80, 82, 84, 85, 86, 88, 90, 92, 94, 95, 96, 98, 100]\n"
     ]
    }
   ],
   "source": [
    "# Q4. Create a list of numbers from 1 to 100. Use for loop and while loop to calculate the cube of each  number and if the cube of that number is divisible by 4 or 5 then append that number in a list and print  that list. \n",
    "#\n",
    "\n",
    "numbers = list(range(1, 101))\n",
    "divisible_numbers = []\n",
    "\n",
    "for number in numbers:\n",
    "  cube = number**3\n",
    "  if cube % 4 == 0 or cube % 5 == 0:\n",
    "    divisible_numbers.append(number)\n",
    "\n",
    "print(\"Numbers divisible by 4 or 5 using for loop:\", divisible_numbers)\n"
   ]
  },
  {
   "cell_type": "code",
   "execution_count": 7,
   "id": "d79d42ba",
   "metadata": {},
   "outputs": [
    {
     "name": "stdout",
     "output_type": "stream",
     "text": [
      "Number of vowels in 'I want to become a data scientist': 12\n"
     ]
    }
   ],
   "source": [
    "#  Write a program to filter count vowels in the below-given string. \n",
    "# string = \"I want to become a data scientist\" \n",
    "\n",
    "\n",
    "string = \"I want to become a data scientist\"\n",
    "vowels = \"aeiou\"\n",
    "vowel_count = 0\n",
    "\n",
    "for char in string:\n",
    "  if char.lower() in vowels:\n",
    "    vowel_count += 1\n",
    "\n",
    "print(f\"Number of vowels in '{string}': {vowel_count}\")\n"
   ]
  },
  {
   "cell_type": "code",
   "execution_count": null,
   "id": "f7037715",
   "metadata": {},
   "outputs": [],
   "source": []
  },
  {
   "cell_type": "code",
   "execution_count": null,
   "id": "3d69fdb1",
   "metadata": {},
   "outputs": [],
   "source": []
  }
 ],
 "metadata": {
  "kernelspec": {
   "display_name": "Python 3 (ipykernel)",
   "language": "python",
   "name": "python3"
  },
  "language_info": {
   "codemirror_mode": {
    "name": "ipython",
    "version": 3
   },
   "file_extension": ".py",
   "mimetype": "text/x-python",
   "name": "python",
   "nbconvert_exporter": "python",
   "pygments_lexer": "ipython3",
   "version": "3.11.5"
  }
 },
 "nbformat": 4,
 "nbformat_minor": 5
}
