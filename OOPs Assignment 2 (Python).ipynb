{
 "cells": [
  {
   "cell_type": "code",
   "execution_count": 1,
   "id": "593b2aa4",
   "metadata": {},
   "outputs": [],
   "source": [
    "# # Q1. Which function is used to open a file? What are the different modes of opening a file? Explain each mode of file opening.\n",
    "# # In Python, the open() function is used to open a file. It takes two parameters: the file name and the mode in which to open the file.\n",
    "\n",
    "# Modes of File Opening:\n",
    "# 'r': Read Mode\n",
    "\n",
    "# Opens a file for reading. The file must exist.\n",
    "# Example: open('file.txt', 'r')\n",
    "# 'w': Write Mode\n",
    "\n",
    "# Opens a file for writing. Creates a new file if it doesn't exist or truncates the file if it exists.\n",
    "# Example: open('file.txt', 'w')\n",
    "# 'a': Append Mode\n",
    "\n",
    "# Opens a file for appending new content to the end of the file. Creates a new file if it doesn't exist.\n",
    "# Example: open('file.txt', 'a')\n",
    "# 'r+': Read and Write Mode\n",
    "\n",
    "# Opens a file for both reading and writing. The file pointer is placed at the beginning of the file.\n",
    "# Example: open('file.txt', 'r+')\n",
    "# 'w+': Write and Read Mode\n",
    "\n",
    "# Opens a file for reading and writing. Creates a new file if it doesn't exist or truncates the file if it exists.\n",
    "# Example: open('file.txt', 'w+')\n",
    "# 'a+': Append and Read Mode\n",
    "\n",
    "# Opens a file for reading and appending. Creates a new file if it doesn't exist.\n",
    "# Example: open('file.txt', 'a+')\n",
    "# 'x': Exclusive Creation\n",
    "\n",
    "# Creates a new file and opens it for writing. If the file already exists, the operation fails.\n",
    "# Example: open('file.txt', 'x')\n",
    "# Explanation:\n",
    "# Read ('r'): Opens the file for reading. The file pointer is placed at the beginning of the file.\n",
    "# Write ('w'): Opens the file for writing. Creates a new file if it doesn't exist or truncates the file if it exists.\n",
    "# Append ('a'): Opens the file for appending new data to the end of the file. Creates a new file if it doesn't exist.\n",
    "# Read and Write ('r+'): Opens the file for both reading and writing from the beginning of the file.\n",
    "# Write and Read ('w+'): Opens the file for reading and writing. Creates a new file if it doesn't exist or truncates the file if it exists.\n",
    "# Append and Read ('a+'): Opens the file for reading and appending new data. Creates a new file if it doesn't exist.\n",
    "# Exclusive Creation ('x'): Creates a new file and opens it for writing. If the file already exists, the operation fails.\n",
    "    \n",
    "    \n"
   ]
  },
  {
   "cell_type": "code",
   "execution_count": 2,
   "id": "ab498c51",
   "metadata": {},
   "outputs": [],
   "source": [
    "# Q2. Why close() function is used? Why is it important to close a file?\n",
    "# The close() function is used to close a file that has been opened using the open() function. It's important to close a file after you're done working with it because:\n",
    "\n",
    "# Closing a file releases its resources back to the operating system.\n",
    "# If you don't close a file properly, changes you made may not be saved.\n",
    "# Keeping files open unnecessarily can lead to resource leaks, especially if your program opens many files.\n"
   ]
  },
  {
   "cell_type": "code",
   "execution_count": 3,
   "id": "57602223",
   "metadata": {},
   "outputs": [
    {
     "name": "stdout",
     "output_type": "stream",
     "text": [
      "I want to become a Data Scientist\n"
     ]
    }
   ],
   "source": [
    "# Q3. Write a Python program to create a text file. Write ‘I want to become a Data Scientist’ in that file. Then close the file. Open this file and read the content of the file.\n",
    "\n",
    "# Writing to a file\n",
    "with open('my_file.txt', 'w') as file:\n",
    "    file.write('I want to become a Data Scientist')\n",
    "\n",
    "# Reading from the file\n",
    "with open('my_file.txt', 'r') as file:\n",
    "    content = file.read()\n",
    "    print(content)\n"
   ]
  },
  {
   "cell_type": "code",
   "execution_count": 6,
   "id": "2c5332fd",
   "metadata": {},
   "outputs": [
    {
     "name": "stdout",
     "output_type": "stream",
     "text": [
      "I want to become a Data Scientist\n",
      "I want to become a Data Scientist\n",
      "I want to become a Data Scientist\n"
     ]
    }
   ],
   "source": [
    "# Q4. Explain the following with Python code: read(), readline() and readlines().\n",
    "\n",
    "# read(): Reads the entire content of the file as a single string.\n",
    "with open('my_file.txt', 'r') as file:\n",
    "    content = file.read()\n",
    "    print(content)\n",
    "    \n",
    "# readline(): Reads a single line from the file.\n",
    "with open('my_file.txt', 'r') as file:\n",
    "    line = file.readline()\n",
    "    print(line)\n",
    "    \n",
    "# readlines(): Reads all lines from the file and returns them as a list where each line is an element in the list.\n",
    "with open('my_file.txt', 'r') as file:\n",
    "    lines = file.readlines()\n",
    "    for line in lines:\n",
    "        print(line.strip())  # Strip newlines\n"
   ]
  },
  {
   "cell_type": "code",
   "execution_count": 7,
   "id": "b7c1e3c2",
   "metadata": {},
   "outputs": [],
   "source": [
    "# Q5. Explain why with statement is used with open(). What is the advantage of using with statement and open() together?\n",
    "# The with statement in Python is used with the open() function to ensure that files are properly closed after they have been used. It simplifies exception handling and ensures that cleanup actions are undertaken promptly.\n",
    "\n",
    "# Advantages:\n",
    "\n",
    "# Automatic Resource Management: It automatically handles closing of the file, even if an exception occurs.\n",
    "# Simplified Syntax: It provides a cleaner and more readable way to open and manage files.\n",
    "# Reduced Risk of Errors: It reduces the risk of forgetting to close the file after operations are complete.\n",
    "\n",
    "\n",
    "\n",
    "\n",
    "\n"
   ]
  },
  {
   "cell_type": "code",
   "execution_count": null,
   "id": "91a19fd4",
   "metadata": {},
   "outputs": [],
   "source": [
    "# Q6. Explain the write() and writelines() functions. Give a suitable example.\n",
    "# write(): Writes a string to the file.\n",
    "\n",
    "with open('my_file.txt', 'w') as file:\n",
    "    file.write('Hello, World!\\n')\n",
    "    file.write('Python is awesome!')\n",
    "writelines(): Writes a list of strings to the file.\n",
    "# \n",
    "lines = ['This is line 1\\n', 'This is line 2\\n', 'This is line 3\\n']\n",
    "\n",
    "with open('my_file.txt', 'w') as file:\n",
    "    file.writelines(lines)\n"
   ]
  }
 ],
 "metadata": {
  "kernelspec": {
   "display_name": "Python 3 (ipykernel)",
   "language": "python",
   "name": "python3"
  },
  "language_info": {
   "codemirror_mode": {
    "name": "ipython",
    "version": 3
   },
   "file_extension": ".py",
   "mimetype": "text/x-python",
   "name": "python",
   "nbconvert_exporter": "python",
   "pygments_lexer": "ipython3",
   "version": "3.11.5"
  }
 },
 "nbformat": 4,
 "nbformat_minor": 5
}
