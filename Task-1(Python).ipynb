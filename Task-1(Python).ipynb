{
 "cells": [
  {
   "cell_type": "code",
   "execution_count": 1,
   "id": "844cf9f8",
   "metadata": {},
   "outputs": [],
   "source": [
    "# Task - 1\n",
    "# Assignment Questions \n",
    "# Assignment \n",
    "# Q1. Create a function which will take a list as an argument and return the product of all the numbers  after creating a flat list. \n",
    "# Use the below-given list as an argument for your function. \n",
    "# list1 = [1,2,3,4, [44,55,66, True], False, (34,56,78,89,34), {1,2,3,3,2,1}, {1:34, \"key2\": [55, 67, 78, 89], 4: (45,  22, 61, 34)}, [56, 'data science'], 'Machine Learning'] \n",
    "# Note: you must extract numeric keys and values of the dictionary also. \n",
    "# Q2. Write a python program for encrypting a message sent to you by your friend. The logic of encryption  should be such that, for a the output should be z. For b, the output should be y. For c, the output should  be x respectively. Also, the whitespace should be replaced with a dollar sign. Keep the punctuation  marks unchanged. \n",
    "# Input Sentence: I want to become a Data Scientist. \n",
    "# Encrypt the above input sentence using the program you just created. \n",
    "# Note: Convert the given input sentence into lowercase before encrypting. The final output should be  lowercase. \n"
   ]
  },
  {
   "cell_type": "code",
   "execution_count": 3,
   "id": "949bad1e",
   "metadata": {},
   "outputs": [
    {
     "name": "stdout",
     "output_type": "stream",
     "text": [
      "Product of all numbers in the list: 0\n"
     ]
    }
   ],
   "source": [
    "# Q1. Function to Flatten a List and Return the Product of All Numbers\n",
    "# python\n",
    "\n",
    "\n",
    "def flatten_list(nested_list):\n",
    "    \"\"\"Flatten a nested list.\"\"\"\n",
    "    flat_list = []\n",
    "    for item in nested_list:\n",
    "        if isinstance(item, (list, tuple, set)):\n",
    "            flat_list.extend(flatten_list(item))\n",
    "        elif isinstance(item, dict):\n",
    "            for key, value in item.items():\n",
    "                if isinstance(key, (int, float)):\n",
    "                    flat_list.append(key)\n",
    "                if isinstance(value, (int, float)):\n",
    "                    flat_list.append(value)\n",
    "                elif isinstance(value, (list, tuple, set)):\n",
    "                    flat_list.extend(flatten_list(value))\n",
    "        elif isinstance(item, (int, float)):\n",
    "            flat_list.append(item)\n",
    "    return flat_list\n",
    "\n",
    "def product_of_numbers(nested_list):\n",
    "    \"\"\"Return the product of all numbers in a flattened list.\"\"\"\n",
    "    flat_list = flatten_list(nested_list)\n",
    "    product = 1\n",
    "    for num in flat_list:\n",
    "        product *= num\n",
    "    return product\n",
    "\n",
    "# Given list\n",
    "list1 = [1, 2, 3, 4, [44, 55, 66, True], False, (34, 56, 78, 89, 34), {1, 2, 3, 3, 2, 1}, \n",
    "         {1: 34, \"key2\": [55, 67, 78, 89], 4: (45, 22, 61, 34)}, [56, 'data science'], 'Machine Learning']\n",
    "\n",
    "# Calling the function\n",
    "product = product_of_numbers(list1)\n",
    "print(\"Product of all numbers in the list:\", product)\n"
   ]
  },
  {
   "cell_type": "code",
   "execution_count": 5,
   "id": "d1883d1d",
   "metadata": {},
   "outputs": [
    {
     "name": "stdout",
     "output_type": "stream",
     "text": [
      "Encrypted message: r$dzmg$gl$yvxlnv$z$wzgz$hxrvmgrhg.\n"
     ]
    }
   ],
   "source": [
    "# Q2. Encrypting a Message\n",
    "\n",
    "def encrypt_message(message):\n",
    "    \"\"\"Encrypt the message such that 'a' becomes 'z', 'b' becomes 'y', etc., and spaces become '$'.\"\"\"\n",
    "    encrypted_message = []\n",
    "    for char in message:\n",
    "        if char.isalpha():\n",
    "            encrypted_message.append(chr(219 - ord(char)))\n",
    "        elif char == ' ':\n",
    "            encrypted_message.append('$')\n",
    "        else:\n",
    "            encrypted_message.append(char)\n",
    "    return ''.join(encrypted_message)\n",
    "\n",
    "# Input sentence\n",
    "input_sentence = \"I want to become a Data Scientist.\".lower()\n",
    "\n",
    "# Encrypt the sentence\n",
    "encrypted_sentence = encrypt_message(input_sentence)\n",
    "print(\"Encrypted message:\", encrypted_sentence)\n",
    "\n"
   ]
  },
  {
   "cell_type": "code",
   "execution_count": null,
   "id": "c7ec9f6c",
   "metadata": {},
   "outputs": [],
   "source": []
  }
 ],
 "metadata": {
  "kernelspec": {
   "display_name": "Python 3 (ipykernel)",
   "language": "python",
   "name": "python3"
  },
  "language_info": {
   "codemirror_mode": {
    "name": "ipython",
    "version": 3
   },
   "file_extension": ".py",
   "mimetype": "text/x-python",
   "name": "python",
   "nbconvert_exporter": "python",
   "pygments_lexer": "ipython3",
   "version": "3.11.5"
  }
 },
 "nbformat": 4,
 "nbformat_minor": 5
}
